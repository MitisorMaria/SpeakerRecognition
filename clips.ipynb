{
 "cells": [
  {
   "cell_type": "code",
   "execution_count": 5,
   "metadata": {},
   "outputs": [],
   "source": [
    "from pydub import AudioSegment\n",
    "import pathlib\n",
    "import os"
   ]
  },
  {
   "cell_type": "code",
   "execution_count": 6,
   "metadata": {},
   "outputs": [],
   "source": [
    "def split_into_clips(file_path, speaker, interview_no):\n",
    "    t1 = 0\n",
    "    t2 = 5\n",
    "    i = 1\n",
    "\n",
    "    for t1 in range (30, 280, 5):\n",
    "        t2 = t1 + 5\n",
    "        t1 = t1 * 1000 #Works in milliseconds\n",
    "        t2 = t2 * 1000\n",
    "        newAudio = AudioSegment.from_wav(file_path)\n",
    "        newAudio = newAudio[t1:t2]\n",
    "        path = './test_clips/' + speaker + '/' + str(interview_no)\n",
    "        clipDir = pathlib.Path(path)\n",
    "        if not clipDir.exists():\n",
    "            os.makedirs(clipDir)\n",
    "        print(path)\n",
    "        newAudio.export(path +'/' + 'test_' +  speaker + str(i) + '.wav', format=\"wav\")\n",
    "        i = i + 1\n",
    "    "
   ]
  },
  {
   "cell_type": "code",
   "execution_count": 9,
   "metadata": {
    "scrolled": true
   },
   "outputs": [
    {
     "name": "stdout",
     "output_type": "stream",
     "text": [
      "./test_clips/abbie_cornish/2\n",
      "./test_clips/abbie_cornish/2\n",
      "./test_clips/abbie_cornish/2\n",
      "./test_clips/abbie_cornish/2\n",
      "./test_clips/abbie_cornish/2\n",
      "./test_clips/abbie_cornish/2\n",
      "./test_clips/abbie_cornish/2\n",
      "./test_clips/abbie_cornish/2\n",
      "./test_clips/abbie_cornish/2\n",
      "./test_clips/abbie_cornish/2\n",
      "./test_clips/abbie_cornish/2\n",
      "./test_clips/abbie_cornish/2\n",
      "./test_clips/abbie_cornish/2\n",
      "./test_clips/abbie_cornish/2\n",
      "./test_clips/abbie_cornish/2\n",
      "./test_clips/abbie_cornish/2\n",
      "./test_clips/abbie_cornish/2\n",
      "./test_clips/abbie_cornish/2\n",
      "./test_clips/abbie_cornish/2\n",
      "./test_clips/abbie_cornish/2\n",
      "./test_clips/abbie_cornish/2\n",
      "./test_clips/abbie_cornish/2\n",
      "./test_clips/abbie_cornish/2\n",
      "./test_clips/abbie_cornish/2\n",
      "./test_clips/abbie_cornish/2\n",
      "./test_clips/abbie_cornish/2\n",
      "./test_clips/abbie_cornish/2\n",
      "./test_clips/abbie_cornish/2\n",
      "./test_clips/abbie_cornish/2\n",
      "./test_clips/abbie_cornish/2\n",
      "./test_clips/abbie_cornish/2\n",
      "./test_clips/abbie_cornish/2\n",
      "./test_clips/abbie_cornish/2\n",
      "./test_clips/abbie_cornish/2\n",
      "./test_clips/abbie_cornish/2\n",
      "./test_clips/abbie_cornish/2\n",
      "./test_clips/abbie_cornish/2\n",
      "./test_clips/abbie_cornish/2\n",
      "./test_clips/abbie_cornish/2\n",
      "./test_clips/abbie_cornish/2\n",
      "./test_clips/abbie_cornish/2\n",
      "./test_clips/abbie_cornish/2\n",
      "./test_clips/abbie_cornish/2\n",
      "./test_clips/abbie_cornish/2\n",
      "./test_clips/abbie_cornish/2\n",
      "./test_clips/abbie_cornish/2\n",
      "./test_clips/abbie_cornish/2\n",
      "./test_clips/abbie_cornish/2\n",
      "./test_clips/abbie_cornish/2\n",
      "./test_clips/abbie_cornish/2\n"
     ]
    }
   ],
   "source": [
    "split_into_clips(\"./fullClips/aCornishFull2.wav\", 'abbie_cornish', 2)"
   ]
  },
  {
   "cell_type": "code",
   "execution_count": null,
   "metadata": {},
   "outputs": [],
   "source": []
  }
 ],
 "metadata": {
  "kernelspec": {
   "display_name": "Python 3",
   "language": "python",
   "name": "python3"
  },
  "language_info": {
   "codemirror_mode": {
    "name": "ipython",
    "version": 3
   },
   "file_extension": ".py",
   "mimetype": "text/x-python",
   "name": "python",
   "nbconvert_exporter": "python",
   "pygments_lexer": "ipython3",
   "version": "3.7.7"
  }
 },
 "nbformat": 4,
 "nbformat_minor": 4
}
