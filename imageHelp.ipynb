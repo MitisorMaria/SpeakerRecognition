{
 "cells": [
  {
   "cell_type": "code",
   "execution_count": 1,
   "metadata": {},
   "outputs": [
    {
     "name": "stderr",
     "output_type": "stream",
     "text": [
      "Using TensorFlow backend.\n"
     ]
    }
   ],
   "source": [
    "import signal_processing, data_load, learn, evaluate, render"
   ]
  },
  {
   "cell_type": "code",
   "execution_count": 5,
   "metadata": {},
   "outputs": [],
   "source": [
    "data = signal_processing.extract_features_mfcc_seconds('./Dataset/wav/id10001/9mQ11vBs1wc/00004.wav', 45, 130, 3.0)"
   ]
  },
  {
   "cell_type": "code",
   "execution_count": 7,
   "metadata": {},
   "outputs": [],
   "source": [
    "import numpy as np\n",
    "data3 = np.repeat(data[..., np.newaxis], 3, -1)"
   ]
  },
  {
   "cell_type": "code",
   "execution_count": 18,
   "metadata": {},
   "outputs": [
    {
     "name": "stderr",
     "output_type": "stream",
     "text": [
      "Lossy conversion from float32 to uint8. Range [-360.1385192871094, 205.3203887939453]. Convert image to uint8 prior to saving to suppress this warning.\n"
     ]
    }
   ],
   "source": [
    "data4=np.stack((data,)*3, axis=-1)\n",
    "import skimage.io\n",
    "skimage.io.imsave(\"image.png\", data4)"
   ]
  },
  {
   "cell_type": "code",
   "execution_count": 14,
   "metadata": {},
   "outputs": [
    {
     "data": {
      "text/plain": [
       "array([[-325.58575   , -275.6668    , -235.93651   , ..., -267.84012   ,\n",
       "        -284.72354   , -291.1233    ],\n",
       "       [ 149.85446   ,   99.85712   ,   57.025642  , ...,  177.76973   ,\n",
       "         160.89038   ,  159.79597   ],\n",
       "       [   7.761554  ,  -21.946598  ,  -43.458138  , ...,  -39.719414  ,\n",
       "         -35.272644  ,  -23.221708  ],\n",
       "       ...,\n",
       "       [  -3.1606774 ,   -4.352868  ,   -4.00605   , ...,   -1.6941959 ,\n",
       "          -0.36916542,   -3.0424426 ],\n",
       "       [  -7.0855207 ,   -4.2423406 ,   -1.980911  , ...,   -2.6350374 ,\n",
       "          -5.908147  ,   -5.7165604 ],\n",
       "       [  -4.5360403 ,   -2.9165173 ,   -3.349475  , ...,   -1.1951116 ,\n",
       "          -3.0231447 ,   -4.949215  ]], dtype=float32)"
      ]
     },
     "execution_count": 14,
     "metadata": {},
     "output_type": "execute_result"
    }
   ],
   "source": [
    "data\n"
   ]
  },
  {
   "cell_type": "code",
   "execution_count": 12,
   "metadata": {},
   "outputs": [
    {
     "data": {
      "text/plain": [
       "array([[[-325.58575   , -325.58575   , -325.58575   ],\n",
       "        [-275.6668    , -275.6668    , -275.6668    ],\n",
       "        [-235.93651   , -235.93651   , -235.93651   ],\n",
       "        ...,\n",
       "        [-267.84012   , -267.84012   , -267.84012   ],\n",
       "        [-284.72354   , -284.72354   , -284.72354   ],\n",
       "        [-291.1233    , -291.1233    , -291.1233    ]],\n",
       "\n",
       "       [[ 149.85446   ,  149.85446   ,  149.85446   ],\n",
       "        [  99.85712   ,   99.85712   ,   99.85712   ],\n",
       "        [  57.025642  ,   57.025642  ,   57.025642  ],\n",
       "        ...,\n",
       "        [ 177.76973   ,  177.76973   ,  177.76973   ],\n",
       "        [ 160.89038   ,  160.89038   ,  160.89038   ],\n",
       "        [ 159.79597   ,  159.79597   ,  159.79597   ]],\n",
       "\n",
       "       [[   7.761554  ,    7.761554  ,    7.761554  ],\n",
       "        [ -21.946598  ,  -21.946598  ,  -21.946598  ],\n",
       "        [ -43.458138  ,  -43.458138  ,  -43.458138  ],\n",
       "        ...,\n",
       "        [ -39.719414  ,  -39.719414  ,  -39.719414  ],\n",
       "        [ -35.272644  ,  -35.272644  ,  -35.272644  ],\n",
       "        [ -23.221708  ,  -23.221708  ,  -23.221708  ]],\n",
       "\n",
       "       ...,\n",
       "\n",
       "       [[  -3.1606774 ,   -3.1606774 ,   -3.1606774 ],\n",
       "        [  -4.352868  ,   -4.352868  ,   -4.352868  ],\n",
       "        [  -4.00605   ,   -4.00605   ,   -4.00605   ],\n",
       "        ...,\n",
       "        [  -1.6941959 ,   -1.6941959 ,   -1.6941959 ],\n",
       "        [  -0.36916542,   -0.36916542,   -0.36916542],\n",
       "        [  -3.0424426 ,   -3.0424426 ,   -3.0424426 ]],\n",
       "\n",
       "       [[  -7.0855207 ,   -7.0855207 ,   -7.0855207 ],\n",
       "        [  -4.2423406 ,   -4.2423406 ,   -4.2423406 ],\n",
       "        [  -1.980911  ,   -1.980911  ,   -1.980911  ],\n",
       "        ...,\n",
       "        [  -2.6350374 ,   -2.6350374 ,   -2.6350374 ],\n",
       "        [  -5.908147  ,   -5.908147  ,   -5.908147  ],\n",
       "        [  -5.7165604 ,   -5.7165604 ,   -5.7165604 ]],\n",
       "\n",
       "       [[  -4.5360403 ,   -4.5360403 ,   -4.5360403 ],\n",
       "        [  -2.9165173 ,   -2.9165173 ,   -2.9165173 ],\n",
       "        [  -3.349475  ,   -3.349475  ,   -3.349475  ],\n",
       "        ...,\n",
       "        [  -1.1951116 ,   -1.1951116 ,   -1.1951116 ],\n",
       "        [  -3.0231447 ,   -3.0231447 ,   -3.0231447 ],\n",
       "        [  -4.949215  ,   -4.949215  ,   -4.949215  ]]], dtype=float32)"
      ]
     },
     "execution_count": 12,
     "metadata": {},
     "output_type": "execute_result"
    }
   ],
   "source": [
    "data4"
   ]
  },
  {
   "cell_type": "code",
   "execution_count": 16,
   "metadata": {},
   "outputs": [
    {
     "name": "stderr",
     "output_type": "stream",
     "text": [
      "Clipping input data to the valid range for imshow with RGB data ([0..1] for floats or [0..255] for integers).\n"
     ]
    },
    {
     "data": {
      "text/plain": [
       "<matplotlib.image.AxesImage at 0x2b4e6d0c908>"
      ]
     },
     "execution_count": 16,
     "metadata": {},
     "output_type": "execute_result"
    },
    {
     "data": {
      "image/png": "[encoded data removed]",
      "text/plain": [
       "<Figure size 432x288 with 1 Axes>"
      ]
     },
     "metadata": {
      "needs_background": "light"
     },
     "output_type": "display_data"
    }
   ],
   "source": [
    "import matplotlib.pyplot as plt\n",
    "import matplotlib.cm as cm\n",
    "\n",
    "plt.imshow(data4, cmap=cm.gray)\n"
   ]
  },
  {
   "cell_type": "code",
   "execution_count": 17,
   "metadata": {},
   "outputs": [
    {
     "data": {
      "text/plain": [
       "<matplotlib.image.AxesImage at 0x2b4e6d75d48>"
      ]
     },
     "execution_count": 17,
     "metadata": {},
     "output_type": "execute_result"
    },
    {
     "data": {
      "image/png": "[encoded data removed]",
      "text/plain": [
       "<Figure size 432x288 with 1 Axes>"
      ]
     },
     "metadata": {
      "needs_background": "light"
     },
     "output_type": "display_data"
    }
   ],
   "source": [
    "plt.imshow(data, cmap=cm.gray)"
   ]
  },
  {
   "cell_type": "code",
   "execution_count": null,
   "metadata": {},
   "outputs": [],
   "source": []
  }
 ],
 "metadata": {
  "kernelspec": {
   "display_name": "Python 3",
   "language": "python",
   "name": "python3"
  },
  "language_info": {
   "codemirror_mode": {
    "name": "ipython",
    "version": 3
   },
   "file_extension": ".py",
   "mimetype": "text/x-python",
   "name": "python",
   "nbconvert_exporter": "python",
   "pygments_lexer": "ipython3",
   "version": "3.7.7"
  }
 },
 "nbformat": 4,
 "nbformat_minor": 4
}
